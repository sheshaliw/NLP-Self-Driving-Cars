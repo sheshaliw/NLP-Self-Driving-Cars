{
 "cells": [
  {
   "cell_type": "code",
   "execution_count": 155,
   "id": "04e75387",
   "metadata": {},
   "outputs": [],
   "source": [
    "import pandas as pd\n",
    "import numpy as np\n",
    "import matplotlib.pyplot as plt\n",
    "import seaborn as sns\n",
    "import re                    \n",
    "import spacy              \n",
    "from nltk import tokenize \n",
    "from nltk.tokenize import TweetTokenizer\n",
    "from nltk.sentiment.vader import SentimentIntensityAnalyzer\n",
    "from collections import Counter\n",
    "import nltk\n",
    "from nltk.corpus import stopwords\n",
    "from nltk.tokenize import word_tokenize, sent_tokenize\n",
    "%matplotlib inline"
   ]
  },
  {
   "cell_type": "markdown",
   "id": "24756bb9",
   "metadata": {},
   "source": [
    "The data file for you to analyze is in the assignment in Canvas. For the purposes of the questions below, you can ignore the unit_state, sentiment_gold and sentiment_gold_reason fields, as only a few of the observations have been tagged this way, although you may find it instructive to compare the automatically calculated sentiment to the human-generated sentiment_gold and sentiment_gold_reason field where they are available)."
   ]
  },
  {
   "cell_type": "code",
   "execution_count": 141,
   "id": "c20625b4",
   "metadata": {},
   "outputs": [],
   "source": [
    "data = pd.read_csv('Twitter-sentiment-self-drive-DFE.csv')"
   ]
  },
  {
   "cell_type": "code",
   "execution_count": 142,
   "id": "d67446a9",
   "metadata": {},
   "outputs": [
    {
     "data": {
      "text/html": [
       "<div>\n",
       "<style scoped>\n",
       "    .dataframe tbody tr th:only-of-type {\n",
       "        vertical-align: middle;\n",
       "    }\n",
       "\n",
       "    .dataframe tbody tr th {\n",
       "        vertical-align: top;\n",
       "    }\n",
       "\n",
       "    .dataframe thead th {\n",
       "        text-align: right;\n",
       "    }\n",
       "</style>\n",
       "<table border=\"1\" class=\"dataframe\">\n",
       "  <thead>\n",
       "    <tr style=\"text-align: right;\">\n",
       "      <th></th>\n",
       "      <th>_unit_id</th>\n",
       "      <th>_golden</th>\n",
       "      <th>_unit_state</th>\n",
       "      <th>_trusted_judgments</th>\n",
       "      <th>_last_judgment_at</th>\n",
       "      <th>sentiment</th>\n",
       "      <th>sentiment:confidence</th>\n",
       "      <th>our_id</th>\n",
       "      <th>sentiment_gold</th>\n",
       "      <th>sentiment_gold_reason</th>\n",
       "      <th>text</th>\n",
       "    </tr>\n",
       "  </thead>\n",
       "  <tbody>\n",
       "    <tr>\n",
       "      <th>0</th>\n",
       "      <td>724227031</td>\n",
       "      <td>True</td>\n",
       "      <td>golden</td>\n",
       "      <td>236</td>\n",
       "      <td>NaN</td>\n",
       "      <td>5</td>\n",
       "      <td>0.7579</td>\n",
       "      <td>10001</td>\n",
       "      <td>5\\n4</td>\n",
       "      <td>Author is excited about the development of the...</td>\n",
       "      <td>Two places I'd invest all my money if I could:...</td>\n",
       "    </tr>\n",
       "    <tr>\n",
       "      <th>1</th>\n",
       "      <td>724227032</td>\n",
       "      <td>True</td>\n",
       "      <td>golden</td>\n",
       "      <td>231</td>\n",
       "      <td>NaN</td>\n",
       "      <td>5</td>\n",
       "      <td>0.8775</td>\n",
       "      <td>10002</td>\n",
       "      <td>5\\n4</td>\n",
       "      <td>Author is excited that driverless cars will be...</td>\n",
       "      <td>Awesome! Google driverless cars will help the ...</td>\n",
       "    </tr>\n",
       "    <tr>\n",
       "      <th>2</th>\n",
       "      <td>724227033</td>\n",
       "      <td>True</td>\n",
       "      <td>golden</td>\n",
       "      <td>233</td>\n",
       "      <td>NaN</td>\n",
       "      <td>2</td>\n",
       "      <td>0.6805</td>\n",
       "      <td>10003</td>\n",
       "      <td>2\\n1</td>\n",
       "      <td>The author is skeptical of the safety and reli...</td>\n",
       "      <td>If Google maps can't keep up with road constru...</td>\n",
       "    </tr>\n",
       "    <tr>\n",
       "      <th>3</th>\n",
       "      <td>724227034</td>\n",
       "      <td>True</td>\n",
       "      <td>golden</td>\n",
       "      <td>240</td>\n",
       "      <td>NaN</td>\n",
       "      <td>2</td>\n",
       "      <td>0.8820</td>\n",
       "      <td>10004</td>\n",
       "      <td>2\\n1</td>\n",
       "      <td>The author is skeptical of the project's value.</td>\n",
       "      <td>Autonomous cars seem way overhyped given the t...</td>\n",
       "    </tr>\n",
       "    <tr>\n",
       "      <th>4</th>\n",
       "      <td>724227035</td>\n",
       "      <td>True</td>\n",
       "      <td>golden</td>\n",
       "      <td>240</td>\n",
       "      <td>NaN</td>\n",
       "      <td>3</td>\n",
       "      <td>1.0000</td>\n",
       "      <td>10005</td>\n",
       "      <td>3</td>\n",
       "      <td>Author is making an observation without expres...</td>\n",
       "      <td>Just saw Google self-driving car on I-34. It w...</td>\n",
       "    </tr>\n",
       "  </tbody>\n",
       "</table>\n",
       "</div>"
      ],
      "text/plain": [
       "    _unit_id  _golden _unit_state  _trusted_judgments _last_judgment_at  \\\n",
       "0  724227031     True      golden                 236               NaN   \n",
       "1  724227032     True      golden                 231               NaN   \n",
       "2  724227033     True      golden                 233               NaN   \n",
       "3  724227034     True      golden                 240               NaN   \n",
       "4  724227035     True      golden                 240               NaN   \n",
       "\n",
       "  sentiment  sentiment:confidence  our_id sentiment_gold  \\\n",
       "0         5                0.7579   10001           5\\n4   \n",
       "1         5                0.8775   10002           5\\n4   \n",
       "2         2                0.6805   10003           2\\n1   \n",
       "3         2                0.8820   10004           2\\n1   \n",
       "4         3                1.0000   10005              3   \n",
       "\n",
       "                               sentiment_gold_reason  \\\n",
       "0  Author is excited about the development of the...   \n",
       "1  Author is excited that driverless cars will be...   \n",
       "2  The author is skeptical of the safety and reli...   \n",
       "3    The author is skeptical of the project's value.   \n",
       "4  Author is making an observation without expres...   \n",
       "\n",
       "                                                text  \n",
       "0  Two places I'd invest all my money if I could:...  \n",
       "1  Awesome! Google driverless cars will help the ...  \n",
       "2  If Google maps can't keep up with road constru...  \n",
       "3  Autonomous cars seem way overhyped given the t...  \n",
       "4  Just saw Google self-driving car on I-34. It w...  "
      ]
     },
     "execution_count": 142,
     "metadata": {},
     "output_type": "execute_result"
    }
   ],
   "source": [
    "data.head()"
   ]
  },
  {
   "cell_type": "markdown",
   "id": "89faa85f",
   "metadata": {},
   "source": [
    "## Question 1 "
   ]
  },
  {
   "cell_type": "markdown",
   "id": "d91cf34f",
   "metadata": {},
   "source": [
    "#### 1) Perform exploratory data analysis (for example summary statistics and histograms on the numeric fields) on the data and indicate if you foresee any problems using the data to build a model to predict sentiment. (5 points)"
   ]
  },
  {
   "cell_type": "code",
   "execution_count": 143,
   "id": "2213a77f",
   "metadata": {},
   "outputs": [
    {
     "data": {
      "text/plain": [
       "(7156, 11)"
      ]
     },
     "execution_count": 143,
     "metadata": {},
     "output_type": "execute_result"
    }
   ],
   "source": [
    "data.head()\n",
    "data.shape"
   ]
  },
  {
   "cell_type": "code",
   "execution_count": 144,
   "id": "b4e93103",
   "metadata": {},
   "outputs": [
    {
     "data": {
      "text/html": [
       "<div>\n",
       "<style scoped>\n",
       "    .dataframe tbody tr th:only-of-type {\n",
       "        vertical-align: middle;\n",
       "    }\n",
       "\n",
       "    .dataframe tbody tr th {\n",
       "        vertical-align: top;\n",
       "    }\n",
       "\n",
       "    .dataframe thead th {\n",
       "        text-align: right;\n",
       "    }\n",
       "</style>\n",
       "<table border=\"1\" class=\"dataframe\">\n",
       "  <thead>\n",
       "    <tr style=\"text-align: right;\">\n",
       "      <th></th>\n",
       "      <th>_unit_id</th>\n",
       "      <th>_trusted_judgments</th>\n",
       "      <th>sentiment:confidence</th>\n",
       "      <th>our_id</th>\n",
       "    </tr>\n",
       "  </thead>\n",
       "  <tbody>\n",
       "    <tr>\n",
       "      <th>count</th>\n",
       "      <td>7.156000e+03</td>\n",
       "      <td>7156.000000</td>\n",
       "      <td>7156.000000</td>\n",
       "      <td>7156.000000</td>\n",
       "    </tr>\n",
       "    <tr>\n",
       "      <th>mean</th>\n",
       "      <td>7.243474e+08</td>\n",
       "      <td>5.834405</td>\n",
       "      <td>0.774654</td>\n",
       "      <td>3609.930548</td>\n",
       "    </tr>\n",
       "    <tr>\n",
       "      <th>std</th>\n",
       "      <td>2.506742e+05</td>\n",
       "      <td>11.144930</td>\n",
       "      <td>0.205363</td>\n",
       "      <td>2140.401611</td>\n",
       "    </tr>\n",
       "    <tr>\n",
       "      <th>min</th>\n",
       "      <td>7.242270e+08</td>\n",
       "      <td>1.000000</td>\n",
       "      <td>0.248000</td>\n",
       "      <td>1.000000</td>\n",
       "    </tr>\n",
       "    <tr>\n",
       "      <th>25%</th>\n",
       "      <td>7.243229e+08</td>\n",
       "      <td>3.000000</td>\n",
       "      <td>0.630600</td>\n",
       "      <td>1789.750000</td>\n",
       "    </tr>\n",
       "    <tr>\n",
       "      <th>50%</th>\n",
       "      <td>7.243247e+08</td>\n",
       "      <td>4.000000</td>\n",
       "      <td>0.753100</td>\n",
       "      <td>3578.500000</td>\n",
       "    </tr>\n",
       "    <tr>\n",
       "      <th>75%</th>\n",
       "      <td>7.243265e+08</td>\n",
       "      <td>8.000000</td>\n",
       "      <td>1.000000</td>\n",
       "      <td>5367.250000</td>\n",
       "    </tr>\n",
       "    <tr>\n",
       "      <th>max</th>\n",
       "      <td>7.269423e+08</td>\n",
       "      <td>241.000000</td>\n",
       "      <td>1.000000</td>\n",
       "      <td>10077.000000</td>\n",
       "    </tr>\n",
       "  </tbody>\n",
       "</table>\n",
       "</div>"
      ],
      "text/plain": [
       "           _unit_id  _trusted_judgments  sentiment:confidence        our_id\n",
       "count  7.156000e+03         7156.000000           7156.000000   7156.000000\n",
       "mean   7.243474e+08            5.834405              0.774654   3609.930548\n",
       "std    2.506742e+05           11.144930              0.205363   2140.401611\n",
       "min    7.242270e+08            1.000000              0.248000      1.000000\n",
       "25%    7.243229e+08            3.000000              0.630600   1789.750000\n",
       "50%    7.243247e+08            4.000000              0.753100   3578.500000\n",
       "75%    7.243265e+08            8.000000              1.000000   5367.250000\n",
       "max    7.269423e+08          241.000000              1.000000  10077.000000"
      ]
     },
     "execution_count": 144,
     "metadata": {},
     "output_type": "execute_result"
    }
   ],
   "source": [
    "data.describe()"
   ]
  },
  {
   "cell_type": "code",
   "execution_count": 145,
   "id": "daa7ec9c",
   "metadata": {},
   "outputs": [
    {
     "data": {
      "text/plain": [
       "_unit_id                    0\n",
       "_golden                     0\n",
       "_unit_state                 0\n",
       "_trusted_judgments          0\n",
       "_last_judgment_at          77\n",
       "sentiment                   0\n",
       "sentiment:confidence        0\n",
       "our_id                      0\n",
       "sentiment_gold           7079\n",
       "sentiment_gold_reason    7079\n",
       "text                        0\n",
       "dtype: int64"
      ]
     },
     "execution_count": 145,
     "metadata": {},
     "output_type": "execute_result"
    }
   ],
   "source": [
    "data.isnull().sum()"
   ]
  },
  {
   "cell_type": "markdown",
   "id": "82940d9e",
   "metadata": {},
   "source": [
    "#### Dropping the columns - '_unit state', '_golden', 'sentiment_gold_reason', 'sentiment_gold'"
   ]
  },
  {
   "cell_type": "code",
   "execution_count": 146,
   "id": "35951c67",
   "metadata": {},
   "outputs": [],
   "source": [
    "data.drop(['_unit_state','_golden', 'sentiment_gold_reason','sentiment_gold'], axis=1, inplace=True)"
   ]
  },
  {
   "cell_type": "markdown",
   "id": "fb63f26c",
   "metadata": {},
   "source": [
    "#### Dropping all the rows that have the sentiment as 'not relevant'"
   ]
  },
  {
   "cell_type": "code",
   "execution_count": 147,
   "id": "928e1f77",
   "metadata": {},
   "outputs": [],
   "source": [
    "data.drop(data[data['sentiment']=='not_relevant'].index, inplace=True)"
   ]
  },
  {
   "cell_type": "code",
   "execution_count": 148,
   "id": "1ff61394",
   "metadata": {},
   "outputs": [
    {
     "data": {
      "text/plain": [
       "_unit_id                 0\n",
       "_trusted_judgments       0\n",
       "_last_judgment_at       64\n",
       "sentiment                0\n",
       "sentiment:confidence     0\n",
       "our_id                   0\n",
       "text                     0\n",
       "dtype: int64"
      ]
     },
     "execution_count": 148,
     "metadata": {},
     "output_type": "execute_result"
    }
   ],
   "source": [
    "data.isnull().sum()"
   ]
  },
  {
   "cell_type": "markdown",
   "id": "e9c4fdf5",
   "metadata": {},
   "source": [
    "#### Dropping the column our_id as it is not indicative of any aspect of our objective"
   ]
  },
  {
   "cell_type": "code",
   "execution_count": 149,
   "id": "11904a1b",
   "metadata": {},
   "outputs": [],
   "source": [
    "data.drop('our_id', axis=1, inplace=True)"
   ]
  },
  {
   "cell_type": "markdown",
   "id": "a9ac5a80",
   "metadata": {},
   "source": [
    "#### Dropping the columns _last_judgement_at as the date of the last judgement isn't indicative of the sentiment of the tweets and it has null values. "
   ]
  },
  {
   "cell_type": "code",
   "execution_count": 150,
   "id": "1ad251a3",
   "metadata": {},
   "outputs": [
    {
     "data": {
      "text/html": [
       "<div>\n",
       "<style scoped>\n",
       "    .dataframe tbody tr th:only-of-type {\n",
       "        vertical-align: middle;\n",
       "    }\n",
       "\n",
       "    .dataframe tbody tr th {\n",
       "        vertical-align: top;\n",
       "    }\n",
       "\n",
       "    .dataframe thead th {\n",
       "        text-align: right;\n",
       "    }\n",
       "</style>\n",
       "<table border=\"1\" class=\"dataframe\">\n",
       "  <thead>\n",
       "    <tr style=\"text-align: right;\">\n",
       "      <th></th>\n",
       "      <th>ID</th>\n",
       "      <th>_trusted_judgments</th>\n",
       "      <th>sentiment</th>\n",
       "      <th>sentiment:confidence</th>\n",
       "      <th>text</th>\n",
       "    </tr>\n",
       "  </thead>\n",
       "  <tbody>\n",
       "    <tr>\n",
       "      <th>0</th>\n",
       "      <td>724227031</td>\n",
       "      <td>236</td>\n",
       "      <td>5</td>\n",
       "      <td>0.7579</td>\n",
       "      <td>Two places I'd invest all my money if I could:...</td>\n",
       "    </tr>\n",
       "    <tr>\n",
       "      <th>1</th>\n",
       "      <td>724227032</td>\n",
       "      <td>231</td>\n",
       "      <td>5</td>\n",
       "      <td>0.8775</td>\n",
       "      <td>Awesome! Google driverless cars will help the ...</td>\n",
       "    </tr>\n",
       "    <tr>\n",
       "      <th>2</th>\n",
       "      <td>724227033</td>\n",
       "      <td>233</td>\n",
       "      <td>2</td>\n",
       "      <td>0.6805</td>\n",
       "      <td>If Google maps can't keep up with road constru...</td>\n",
       "    </tr>\n",
       "    <tr>\n",
       "      <th>3</th>\n",
       "      <td>724227034</td>\n",
       "      <td>240</td>\n",
       "      <td>2</td>\n",
       "      <td>0.8820</td>\n",
       "      <td>Autonomous cars seem way overhyped given the t...</td>\n",
       "    </tr>\n",
       "    <tr>\n",
       "      <th>4</th>\n",
       "      <td>724227035</td>\n",
       "      <td>240</td>\n",
       "      <td>3</td>\n",
       "      <td>1.0000</td>\n",
       "      <td>Just saw Google self-driving car on I-34. It w...</td>\n",
       "    </tr>\n",
       "  </tbody>\n",
       "</table>\n",
       "</div>"
      ],
      "text/plain": [
       "          ID  _trusted_judgments sentiment  sentiment:confidence  \\\n",
       "0  724227031                 236         5                0.7579   \n",
       "1  724227032                 231         5                0.8775   \n",
       "2  724227033                 233         2                0.6805   \n",
       "3  724227034                 240         2                0.8820   \n",
       "4  724227035                 240         3                1.0000   \n",
       "\n",
       "                                                text  \n",
       "0  Two places I'd invest all my money if I could:...  \n",
       "1  Awesome! Google driverless cars will help the ...  \n",
       "2  If Google maps can't keep up with road constru...  \n",
       "3  Autonomous cars seem way overhyped given the t...  \n",
       "4  Just saw Google self-driving car on I-34. It w...  "
      ]
     },
     "execution_count": 150,
     "metadata": {},
     "output_type": "execute_result"
    }
   ],
   "source": [
    "data.rename(columns={'_unit_id': 'ID'}, inplace=True)\n",
    "data.drop('_last_judgment_at', axis=1, inplace=True)\n",
    "data.head()"
   ]
  },
  {
   "cell_type": "markdown",
   "id": "caffac9f",
   "metadata": {},
   "source": [
    "#### Converting the type of the column 'sentiment' to int from string"
   ]
  },
  {
   "cell_type": "code",
   "execution_count": 151,
   "id": "c26c7c36",
   "metadata": {},
   "outputs": [],
   "source": [
    "data['sentiment'].unique()\n",
    "for i in range(len(data)):\n",
    "    data.iloc[i,2]=int(data.iloc[i,2])"
   ]
  },
  {
   "cell_type": "markdown",
   "id": "485d6ad2",
   "metadata": {},
   "source": [
    "#### Drop duplicate tweets based on the 'text' field"
   ]
  },
  {
   "cell_type": "code",
   "execution_count": 152,
   "id": "70516def",
   "metadata": {},
   "outputs": [
    {
     "name": "stdout",
     "output_type": "stream",
     "text": [
      "10\n"
     ]
    },
    {
     "data": {
      "text/plain": [
       "6933"
      ]
     },
     "execution_count": 152,
     "metadata": {},
     "output_type": "execute_result"
    }
   ],
   "source": [
    "print(len(data[data['text'].duplicated()==True]))\n",
    "data.drop_duplicates(subset=['text'], keep='first', inplace=True, ignore_index=False)\n",
    "len(data)"
   ]
  },
  {
   "cell_type": "markdown",
   "id": "9a459786",
   "metadata": {},
   "source": [
    "#### Removing the links from the tweets"
   ]
  },
  {
   "cell_type": "code",
   "execution_count": 153,
   "id": "e6476614",
   "metadata": {},
   "outputs": [],
   "source": [
    "for i in range(0, len(data)):\n",
    "    data.iloc[i,4] = re.sub(r\"http\\S+\", \"\", data.iloc[i, 4])"
   ]
  },
  {
   "cell_type": "code",
   "execution_count": 154,
   "id": "ddc316ab",
   "metadata": {},
   "outputs": [],
   "source": [
    "#Generating profile report to analyse the column data\n",
    "\n",
    "from pandas_profiling import ProfileReport\n",
    "#profile = ProfileReport(data)\n",
    "#profile"
   ]
  },
  {
   "cell_type": "markdown",
   "id": "08465abf",
   "metadata": {},
   "source": [
    "### From the profile report generated, we can see that there are no missing values in our dataset. It is also clear that there seems to be some correlationn between the number of trusted judgements and the sentiment confidence. \n",
    "\n",
    "we will explore these aspects in more detail"
   ]
  },
  {
   "cell_type": "markdown",
   "id": "231994ea",
   "metadata": {},
   "source": [
    "#### Plotting a bar graph of the sentiment of the tweets"
   ]
  },
  {
   "cell_type": "code",
   "execution_count": 156,
   "id": "bdb40cf6",
   "metadata": {},
   "outputs": [
    {
     "name": "stdout",
     "output_type": "stream",
     "text": [
      "             ID\n",
      "sentiment      \n",
      "1           110\n",
      "2           685\n",
      "3          4236\n",
      "4          1443\n",
      "5           459\n"
     ]
    },
    {
     "data": {
      "text/plain": [
       "<Figure size 1440x1440 with 0 Axes>"
      ]
     },
     "metadata": {},
     "output_type": "display_data"
    },
    {
     "data": {
      "image/png": "[encoded data removed]",
      "text/plain": [
       "<Figure size 432x288 with 1 Axes>"
      ]
     },
     "metadata": {
      "needs_background": "light"
     },
     "output_type": "display_data"
    }
   ],
   "source": [
    "temporary = data.pivot_table(values='ID', index='sentiment', aggfunc='count', fill_value=0)\n",
    "print(temporary)\n",
    "\n",
    "plt.figure(figsize=(20,20))\n",
    "temporary.plot(kind='bar', stacked=True)\n",
    "plt.xlabel('Sentiment')\n",
    "plt.ylabel('Number of Tweets')\n",
    "plt.legend(title='Golden')\n",
    "plt.show()"
   ]
  },
  {
   "cell_type": "markdown",
   "id": "7d44e4f5",
   "metadata": {},
   "source": [
    "#### The plotted histogram is indicative of the fact that most of the tweets in the dataset are neutral in nature. This could be a potential problem, because most of the neutral tweets are news article headlines, statements made about the car's features, etc. These tweets do not help in accessing sentiment. \n",
    "\n",
    "#### Also, there is a clear class imbalance as there are many tweets of sentiment category '3' as comapred to the other sentiment categories. This will lead to an imbalance in model building"
   ]
  },
  {
   "cell_type": "markdown",
   "id": "d17f780d",
   "metadata": {},
   "source": [
    "#### Plotting a histogram of the 'trusted_judgments' columns to understand the frequency distribution"
   ]
  },
  {
   "cell_type": "code",
   "execution_count": 157,
   "id": "cda0501f",
   "metadata": {},
   "outputs": [
    {
     "data": {
      "text/plain": [
       "(array([ 0.,  0.,  0.,  0.,  4., 17., 28.,  5.,  0.,  0.,  0.,  9.]),\n",
       " array([ 10,  20,  30,  40,  50,  60,  70,  80,  90, 100, 150, 200, 250]),\n",
       " <BarContainer object of 12 artists>)"
      ]
     },
     "execution_count": 157,
     "metadata": {},
     "output_type": "execute_result"
    },
    {
     "data": {
      "image/png": "[encoded data removed]",
      "text/plain": [
       "<Figure size 432x288 with 1 Axes>"
      ]
     },
     "metadata": {
      "needs_background": "light"
     },
     "output_type": "display_data"
    }
   ],
   "source": [
    "plt.hist(data['_trusted_judgments'], bins=[10,20,30,40,50,60,70,80, 90, 100, 150, 200, 250])"
   ]
  },
  {
   "cell_type": "markdown",
   "id": "f73199bf",
   "metadata": {},
   "source": [
    "#### From the above histogram, we can see that most of the tweets have a range of 50-100 when it comes to the number of people trusting the tweet. However, there are a few tweets that have more than 200 trusted judgements. We can use this data later, to extract the sentiments from the highly trusted tweets"
   ]
  },
  {
   "cell_type": "code",
   "execution_count": 158,
   "id": "4d163536",
   "metadata": {},
   "outputs": [
    {
     "data": {
      "text/plain": [
       "<AxesSubplot:xlabel='_trusted_judgments', ylabel='sentiment:confidence'>"
      ]
     },
     "execution_count": 158,
     "metadata": {},
     "output_type": "execute_result"
    },
    {
     "data": {
      "image/png": "[encoded data removed]",
      "text/plain": [
       "<Figure size 432x288 with 1 Axes>"
      ]
     },
     "metadata": {
      "needs_background": "light"
     },
     "output_type": "display_data"
    }
   ],
   "source": [
    "sns.lineplot(x=data['_trusted_judgments'], y=data['sentiment:confidence'])"
   ]
  },
  {
   "cell_type": "markdown",
   "id": "4bf4f011",
   "metadata": {},
   "source": [
    "#### After plotting the data, we can see that there isn't much correlation between the sentiment confidence and the number of trusted judgements"
   ]
  },
  {
   "cell_type": "code",
   "execution_count": 159,
   "id": "d928a564",
   "metadata": {},
   "outputs": [
    {
     "data": {
      "text/plain": [
       "<AxesSubplot:>"
      ]
     },
     "execution_count": 159,
     "metadata": {},
     "output_type": "execute_result"
    },
    {
     "data": {
      "image/png": "[encoded data removed]",
      "text/plain": [
       "<Figure size 432x288 with 2 Axes>"
      ]
     },
     "metadata": {
      "needs_background": "light"
     },
     "output_type": "display_data"
    }
   ],
   "source": [
    "sns.heatmap(data.corr())"
   ]
  },
  {
   "cell_type": "code",
   "execution_count": 160,
   "id": "7444552d",
   "metadata": {},
   "outputs": [
    {
     "data": {
      "text/plain": [
       "(array([  18.,  419.,   16.,  881.,  231.,  396., 2231.,   57.,   11.,\n",
       "        2673.]),\n",
       " array([0.2505 , 0.32545, 0.4004 , 0.47535, 0.5503 , 0.62525, 0.7002 ,\n",
       "        0.77515, 0.8501 , 0.92505, 1.     ]),\n",
       " <BarContainer object of 10 artists>)"
      ]
     },
     "execution_count": 160,
     "metadata": {},
     "output_type": "execute_result"
    },
    {
     "data": {
      "image/png": "[encoded data removed]",
      "text/plain": [
       "<Figure size 432x288 with 1 Axes>"
      ]
     },
     "metadata": {
      "needs_background": "light"
     },
     "output_type": "display_data"
    }
   ],
   "source": [
    "plt.hist(data['sentiment:confidence'])"
   ]
  },
  {
   "cell_type": "code",
   "execution_count": 161,
   "id": "9c195e53",
   "metadata": {},
   "outputs": [
    {
     "data": {
      "text/plain": [
       "<AxesSubplot:xlabel='sentiment', ylabel='sentiment:confidence'>"
      ]
     },
     "execution_count": 161,
     "metadata": {},
     "output_type": "execute_result"
    },
    {
     "data": {
      "image/png": "[encoded data removed]",
      "text/plain": [
       "<Figure size 432x288 with 1 Axes>"
      ]
     },
     "metadata": {
      "needs_background": "light"
     },
     "output_type": "display_data"
    }
   ],
   "source": [
    "sns.boxplot(x=data['sentiment'], y=data['sentiment:confidence'])"
   ]
  },
  {
   "cell_type": "markdown",
   "id": "4e819c6e",
   "metadata": {},
   "source": [
    "#### We can see that most of the tweets that have a sentiment score of 1, 2, 4 and 5 usually have a confidence of 0.5-0.8. However, tweets that have a sentiment of 3 usually have high confidence associated with it. "
   ]
  },
  {
   "cell_type": "markdown",
   "id": "2a212a70",
   "metadata": {},
   "source": [
    "### Indicate if you foresee any problems using the data to build a model to predict sentiment."
   ]
  },
  {
   "cell_type": "markdown",
   "id": "cc7c9a3d",
   "metadata": {},
   "source": [
    "- There is a clear class imbalance in the data, with respect to the number of tweets that have a sentiment rating of 3 as compared to the other classes. This could be a potential problem in building a model using this data to predict sentiment. \n",
    "- We had to get rid of all the null value rows and columns before we could build a model to predict sentiment, as null values could've created issues\n",
    "- There were a lot of columns that weren't helpful in predicting the sentiment of the tweets, so we dropped all such columns\n",
    "- We tried to find correlation between the important features, but there wasn't much of a dependence between the features\n",
    "- We dropped duplicate tweets, because that would've trained our model in a rather wrong way. Duplicate tweets had different sentiment scores. We dropped all but the first\n",
    "- We removed all of the 'not-relevant' tweets before building our model. \n",
    "\n",
    "Apart from these, there are no further problems and we can now build our model to predict sentiment\n"
   ]
  },
  {
   "cell_type": "markdown",
   "id": "324b4c6a",
   "metadata": {},
   "source": [
    "## Question 2"
   ]
  },
  {
   "cell_type": "markdown",
   "id": "c32a29a1",
   "metadata": {},
   "source": [
    "#### 2) Tokenize the Tweets for analysis (words, and punctuation, e.g. \"!!!\", will be relevant). Show the most common words/tokens overall, nouns, adjectives, and punctuation-based tokens for all of the tweets. You should exclude stopwords and the frequent words/phrases like “self- driving cars” that do not help in the prediction task. (Note: if you decide to stem or lemmatize the words for modeling in the following step, which is recommended, you should do that after the part of speech tagging in this step.) (5 points)"
   ]
  },
  {
   "cell_type": "markdown",
   "id": "8eaf927c",
   "metadata": {},
   "source": [
    "#### In this step, we tokenize the tweets and remove all the stop words and we remove all the tokens that aren't alphanumeric"
   ]
  },
  {
   "cell_type": "code",
   "execution_count": 162,
   "id": "588d144e",
   "metadata": {
    "scrolled": true
   },
   "outputs": [],
   "source": [
    "import string\n",
    "\n",
    "tknzr = TweetTokenizer()\n",
    "\n",
    "##Cleaning the tokens to remove stop words\n",
    "\n",
    "tweets = data['text'].to_numpy()\n",
    "nlp = spacy.load('en_core_web_sm')\n",
    "\n",
    "#Tokenize tweets with NTLK's TweetTokenizer\n",
    "stopwords_tweets = []\n",
    "t_tokenizer = TweetTokenizer()\n",
    "\n",
    "##Cleaning the tweets for stop words\n",
    "for tw in tweets:\n",
    "    cleaned = [word for word in t_tokenizer.tokenize(tw.lower()) if word not in nlp.Defaults.stop_words and (word in string.punctuation or str.isalnum(word))]\n",
    "    stopwords_tweets.append(' '.join(cleaned))"
   ]
  },
  {
   "cell_type": "markdown",
   "id": "0dccae84",
   "metadata": {},
   "source": [
    "#### We use the CountVectorizer to find all the words that are most frequent and if they are relevant to our sentiment predicting model"
   ]
  },
  {
   "cell_type": "code",
   "execution_count": 165,
   "id": "35e1a2de",
   "metadata": {},
   "outputs": [
    {
     "name": "stdout",
     "output_type": "stream",
     "text": [
      "car 3589\n",
      "cars 3192\n",
      "google 2106\n",
      "driverless 1803\n",
      "driving 1705\n",
      "self 1460\n",
      "autonomous 356\n",
      "future 303\n",
      "saw 282\n",
      "like 265\n",
      "drive 245\n",
      "new 233\n",
      "rt 219\n",
      "vehicle 198\n",
      "need 192\n",
      "california 188\n",
      "uber 186\n",
      "think 182\n",
      "want 173\n",
      "road 166\n"
     ]
    }
   ],
   "source": [
    "from sklearn.feature_extraction.text import CountVectorizer\n",
    "\n",
    "def get_common_words(temp, n=None):\n",
    "    vector = CountVectorizer().fit(temp)\n",
    "    bag = vector.transform(temp)\n",
    "    total_words = bag.sum(axis=0) \n",
    "    words_count = [(word, total_words[0, idx]) for word, idx in vector.vocabulary_.items()]\n",
    "    words_count = sorted(words_count, key = lambda x: x[1], reverse=True)\n",
    "    return words_count[:n]\n",
    "\n",
    "common_words = get_common_words(stopwords_tweets, 20)\n",
    "for word, freq in common_words:\n",
    "    print(word, freq)\n"
   ]
  },
  {
   "cell_type": "markdown",
   "id": "1c28f3ec",
   "metadata": {},
   "source": [
    "#### Cleaning the tweets for similar meaning words like 'self-driving', 'autonomous', 'driverless'"
   ]
  },
  {
   "cell_type": "code",
   "execution_count": 166,
   "id": "49e18b4c",
   "metadata": {},
   "outputs": [
    {
     "data": {
      "text/html": [
       "<div>\n",
       "<style scoped>\n",
       "    .dataframe tbody tr th:only-of-type {\n",
       "        vertical-align: middle;\n",
       "    }\n",
       "\n",
       "    .dataframe tbody tr th {\n",
       "        vertical-align: top;\n",
       "    }\n",
       "\n",
       "    .dataframe thead th {\n",
       "        text-align: right;\n",
       "    }\n",
       "</style>\n",
       "<table border=\"1\" class=\"dataframe\">\n",
       "  <thead>\n",
       "    <tr style=\"text-align: right;\">\n",
       "      <th></th>\n",
       "      <th>ID</th>\n",
       "      <th>_trusted_judgments</th>\n",
       "      <th>sentiment</th>\n",
       "      <th>sentiment:confidence</th>\n",
       "      <th>text</th>\n",
       "      <th>Cleaned</th>\n",
       "    </tr>\n",
       "  </thead>\n",
       "  <tbody>\n",
       "    <tr>\n",
       "      <th>0</th>\n",
       "      <td>724227031</td>\n",
       "      <td>236</td>\n",
       "      <td>5</td>\n",
       "      <td>0.7579</td>\n",
       "      <td>Two places I'd invest all my money if I could:...</td>\n",
       "      <td>places invest money : 3d printing ! ! !</td>\n",
       "    </tr>\n",
       "    <tr>\n",
       "      <th>1</th>\n",
       "      <td>724227032</td>\n",
       "      <td>231</td>\n",
       "      <td>5</td>\n",
       "      <td>0.8775</td>\n",
       "      <td>Awesome! Google driverless cars will help the ...</td>\n",
       "      <td>awesome ! help blind travel ;</td>\n",
       "    </tr>\n",
       "    <tr>\n",
       "      <th>2</th>\n",
       "      <td>724227033</td>\n",
       "      <td>233</td>\n",
       "      <td>2</td>\n",
       "      <td>0.6805</td>\n",
       "      <td>If Google maps can't keep up with road constru...</td>\n",
       "      <td>maps road construction , supposed trust ?</td>\n",
       "    </tr>\n",
       "    <tr>\n",
       "      <th>3</th>\n",
       "      <td>724227034</td>\n",
       "      <td>240</td>\n",
       "      <td>2</td>\n",
       "      <td>0.8820</td>\n",
       "      <td>Autonomous cars seem way overhyped given the t...</td>\n",
       "      <td>way overhyped given technology challenges ; pi...</td>\n",
       "    </tr>\n",
       "    <tr>\n",
       "      <th>4</th>\n",
       "      <td>724227035</td>\n",
       "      <td>240</td>\n",
       "      <td>3</td>\n",
       "      <td>1.0000</td>\n",
       "      <td>Just saw Google self-driving car on I-34. It w...</td>\n",
       "      <td>saw - 34 . painted green blue .</td>\n",
       "    </tr>\n",
       "  </tbody>\n",
       "</table>\n",
       "</div>"
      ],
      "text/plain": [
       "          ID  _trusted_judgments sentiment  sentiment:confidence  \\\n",
       "0  724227031                 236         5                0.7579   \n",
       "1  724227032                 231         5                0.8775   \n",
       "2  724227033                 233         2                0.6805   \n",
       "3  724227034                 240         2                0.8820   \n",
       "4  724227035                 240         3                1.0000   \n",
       "\n",
       "                                                text  \\\n",
       "0  Two places I'd invest all my money if I could:...   \n",
       "1  Awesome! Google driverless cars will help the ...   \n",
       "2  If Google maps can't keep up with road constru...   \n",
       "3  Autonomous cars seem way overhyped given the t...   \n",
       "4  Just saw Google self-driving car on I-34. It w...   \n",
       "\n",
       "                                             Cleaned  \n",
       "0            places invest money : 3d printing ! ! !  \n",
       "1                      awesome ! help blind travel ;  \n",
       "2          maps road construction , supposed trust ?  \n",
       "3  way overhyped given technology challenges ; pi...  \n",
       "4                    saw - 34 . painted green blue .  "
      ]
     },
     "execution_count": 166,
     "metadata": {},
     "output_type": "execute_result"
    }
   ],
   "source": [
    "cleaned_tweets = []\n",
    "similar_words =['self-driving', 'autonomous', 'driverless', 'automated', 'vehicle', 'car', 'cars', 'vehicles', 'self', 'driving', 'google', 'uber', 'audi','rt', 'self', 'drive', 'california']\n",
    "for tw in stopwords_tweets:\n",
    "    cleaned = [word for word in t_tokenizer.tokenize(tw.lower()) if word not in similar_words]\n",
    "    cleaned_tweets.append(' '.join(cleaned))\n",
    "\n",
    "##Inserting the clean tokens to our original dataframe\n",
    "data.insert(5, 'Cleaned', cleaned_tweets)\n",
    "data.head()"
   ]
  },
  {
   "cell_type": "markdown",
   "id": "668dc67b",
   "metadata": {},
   "source": [
    "#### Lemmatizing the cleaned data using spaCy.lemma_"
   ]
  },
  {
   "cell_type": "code",
   "execution_count": 167,
   "id": "62eab68a",
   "metadata": {},
   "outputs": [
    {
     "data": {
      "text/html": [
       "<div>\n",
       "<style scoped>\n",
       "    .dataframe tbody tr th:only-of-type {\n",
       "        vertical-align: middle;\n",
       "    }\n",
       "\n",
       "    .dataframe tbody tr th {\n",
       "        vertical-align: top;\n",
       "    }\n",
       "\n",
       "    .dataframe thead th {\n",
       "        text-align: right;\n",
       "    }\n",
       "</style>\n",
       "<table border=\"1\" class=\"dataframe\">\n",
       "  <thead>\n",
       "    <tr style=\"text-align: right;\">\n",
       "      <th></th>\n",
       "      <th>ID</th>\n",
       "      <th>_trusted_judgments</th>\n",
       "      <th>sentiment</th>\n",
       "      <th>sentiment:confidence</th>\n",
       "      <th>text</th>\n",
       "      <th>Cleaned</th>\n",
       "      <th>Spacy_Lemma</th>\n",
       "    </tr>\n",
       "  </thead>\n",
       "  <tbody>\n",
       "    <tr>\n",
       "      <th>0</th>\n",
       "      <td>724227031</td>\n",
       "      <td>236</td>\n",
       "      <td>5</td>\n",
       "      <td>0.7579</td>\n",
       "      <td>Two places I'd invest all my money if I could:...</td>\n",
       "      <td>places invest money : 3d printing ! ! !</td>\n",
       "      <td>place invest money : 3d print ! ! !</td>\n",
       "    </tr>\n",
       "    <tr>\n",
       "      <th>1</th>\n",
       "      <td>724227032</td>\n",
       "      <td>231</td>\n",
       "      <td>5</td>\n",
       "      <td>0.8775</td>\n",
       "      <td>Awesome! Google driverless cars will help the ...</td>\n",
       "      <td>awesome ! help blind travel ;</td>\n",
       "      <td>awesome ! help blind travel ;</td>\n",
       "    </tr>\n",
       "    <tr>\n",
       "      <th>2</th>\n",
       "      <td>724227033</td>\n",
       "      <td>233</td>\n",
       "      <td>2</td>\n",
       "      <td>0.6805</td>\n",
       "      <td>If Google maps can't keep up with road constru...</td>\n",
       "      <td>maps road construction , supposed trust ?</td>\n",
       "      <td>map road construction , suppose trust ?</td>\n",
       "    </tr>\n",
       "    <tr>\n",
       "      <th>3</th>\n",
       "      <td>724227034</td>\n",
       "      <td>240</td>\n",
       "      <td>2</td>\n",
       "      <td>0.8820</td>\n",
       "      <td>Autonomous cars seem way overhyped given the t...</td>\n",
       "      <td>way overhyped given technology challenges ; pi...</td>\n",
       "      <td>way overhype give technology challenge ; pilot...</td>\n",
       "    </tr>\n",
       "    <tr>\n",
       "      <th>4</th>\n",
       "      <td>724227035</td>\n",
       "      <td>240</td>\n",
       "      <td>3</td>\n",
       "      <td>1.0000</td>\n",
       "      <td>Just saw Google self-driving car on I-34. It w...</td>\n",
       "      <td>saw - 34 . painted green blue .</td>\n",
       "      <td>see - 34 . paint green blue .</td>\n",
       "    </tr>\n",
       "  </tbody>\n",
       "</table>\n",
       "</div>"
      ],
      "text/plain": [
       "          ID  _trusted_judgments sentiment  sentiment:confidence  \\\n",
       "0  724227031                 236         5                0.7579   \n",
       "1  724227032                 231         5                0.8775   \n",
       "2  724227033                 233         2                0.6805   \n",
       "3  724227034                 240         2                0.8820   \n",
       "4  724227035                 240         3                1.0000   \n",
       "\n",
       "                                                text  \\\n",
       "0  Two places I'd invest all my money if I could:...   \n",
       "1  Awesome! Google driverless cars will help the ...   \n",
       "2  If Google maps can't keep up with road constru...   \n",
       "3  Autonomous cars seem way overhyped given the t...   \n",
       "4  Just saw Google self-driving car on I-34. It w...   \n",
       "\n",
       "                                             Cleaned  \\\n",
       "0            places invest money : 3d printing ! ! !   \n",
       "1                      awesome ! help blind travel ;   \n",
       "2          maps road construction , supposed trust ?   \n",
       "3  way overhyped given technology challenges ; pi...   \n",
       "4                    saw - 34 . painted green blue .   \n",
       "\n",
       "                                         Spacy_Lemma  \n",
       "0                place invest money : 3d print ! ! !  \n",
       "1                      awesome ! help blind travel ;  \n",
       "2            map road construction , suppose trust ?  \n",
       "3  way overhype give technology challenge ; pilot...  \n",
       "4                      see - 34 . paint green blue .  "
      ]
     },
     "execution_count": 167,
     "metadata": {},
     "output_type": "execute_result"
    }
   ],
   "source": [
    "import spacy\n",
    "nlp = spacy.load(\"en_core_web_sm\")\n",
    "\n",
    "lemma = []\n",
    "\n",
    "for i in range(0,len(data)):  \n",
    "    doc = nlp(data.iloc[i,5])\n",
    "    words = \" \".join([token.lemma_ for token in doc])\n",
    "    lemma.append(words)\n",
    "\n",
    "data.insert(6, 'Spacy_Lemma', lemma)\n",
    "data.head()"
   ]
  },
  {
   "cell_type": "code",
   "execution_count": 168,
   "id": "8bf87730",
   "metadata": {},
   "outputs": [],
   "source": [
    "temp = data.copy()"
   ]
  },
  {
   "cell_type": "markdown",
   "id": "49b163b8",
   "metadata": {},
   "source": [
    "#### The next step is to tag the parts of speech to the clean tokens"
   ]
  },
  {
   "cell_type": "markdown",
   "id": "47adf76d",
   "metadata": {},
   "source": [
    "#### I used spacy.lemma_ to lemmatize the data. As spaCy determines the part-of-speech tag by default and assigns the corresponding lemma, the POS tagging is done here only to emphasize it's pattern. By using spaCy to lemmatize the data in the previous cell, we don't need to tag the POS."
   ]
  },
  {
   "cell_type": "code",
   "execution_count": 169,
   "id": "2e0ab2f4",
   "metadata": {},
   "outputs": [
    {
     "data": {
      "text/html": [
       "<div>\n",
       "<style scoped>\n",
       "    .dataframe tbody tr th:only-of-type {\n",
       "        vertical-align: middle;\n",
       "    }\n",
       "\n",
       "    .dataframe tbody tr th {\n",
       "        vertical-align: top;\n",
       "    }\n",
       "\n",
       "    .dataframe thead th {\n",
       "        text-align: right;\n",
       "    }\n",
       "</style>\n",
       "<table border=\"1\" class=\"dataframe\">\n",
       "  <thead>\n",
       "    <tr style=\"text-align: right;\">\n",
       "      <th></th>\n",
       "      <th>ID</th>\n",
       "      <th>_trusted_judgments</th>\n",
       "      <th>sentiment</th>\n",
       "      <th>sentiment:confidence</th>\n",
       "      <th>text</th>\n",
       "      <th>Cleaned</th>\n",
       "      <th>Spacy_Lemma</th>\n",
       "      <th>POS</th>\n",
       "    </tr>\n",
       "  </thead>\n",
       "  <tbody>\n",
       "    <tr>\n",
       "      <th>0</th>\n",
       "      <td>724227031</td>\n",
       "      <td>236</td>\n",
       "      <td>5</td>\n",
       "      <td>0.7579</td>\n",
       "      <td>Two places I'd invest all my money if I could:...</td>\n",
       "      <td>places invest money : 3d printing ! ! !</td>\n",
       "      <td>place invest money : 3d print ! ! !</td>\n",
       "      <td>[(place, NN), (invest, JJS), (money, NN), (:, ...</td>\n",
       "    </tr>\n",
       "    <tr>\n",
       "      <th>1</th>\n",
       "      <td>724227032</td>\n",
       "      <td>231</td>\n",
       "      <td>5</td>\n",
       "      <td>0.8775</td>\n",
       "      <td>Awesome! Google driverless cars will help the ...</td>\n",
       "      <td>awesome ! help blind travel ;</td>\n",
       "      <td>awesome ! help blind travel ;</td>\n",
       "      <td>[(awesome, NN), (!, .), (help, NN), (blind, VB...</td>\n",
       "    </tr>\n",
       "    <tr>\n",
       "      <th>2</th>\n",
       "      <td>724227033</td>\n",
       "      <td>233</td>\n",
       "      <td>2</td>\n",
       "      <td>0.6805</td>\n",
       "      <td>If Google maps can't keep up with road constru...</td>\n",
       "      <td>maps road construction , supposed trust ?</td>\n",
       "      <td>map road construction , suppose trust ?</td>\n",
       "      <td>[(map, NN), (road, NN), (construction, NN), (,...</td>\n",
       "    </tr>\n",
       "    <tr>\n",
       "      <th>3</th>\n",
       "      <td>724227034</td>\n",
       "      <td>240</td>\n",
       "      <td>2</td>\n",
       "      <td>0.8820</td>\n",
       "      <td>Autonomous cars seem way overhyped given the t...</td>\n",
       "      <td>way overhyped given technology challenges ; pi...</td>\n",
       "      <td>way overhype give technology challenge ; pilot...</td>\n",
       "      <td>[(way, NN), (overhype, JJ), (give, JJ), (techn...</td>\n",
       "    </tr>\n",
       "    <tr>\n",
       "      <th>4</th>\n",
       "      <td>724227035</td>\n",
       "      <td>240</td>\n",
       "      <td>3</td>\n",
       "      <td>1.0000</td>\n",
       "      <td>Just saw Google self-driving car on I-34. It w...</td>\n",
       "      <td>saw - 34 . painted green blue .</td>\n",
       "      <td>see - 34 . paint green blue .</td>\n",
       "      <td>[(see, VB), (-, :), (34, CD), (., .), (paint, ...</td>\n",
       "    </tr>\n",
       "  </tbody>\n",
       "</table>\n",
       "</div>"
      ],
      "text/plain": [
       "          ID  _trusted_judgments sentiment  sentiment:confidence  \\\n",
       "0  724227031                 236         5                0.7579   \n",
       "1  724227032                 231         5                0.8775   \n",
       "2  724227033                 233         2                0.6805   \n",
       "3  724227034                 240         2                0.8820   \n",
       "4  724227035                 240         3                1.0000   \n",
       "\n",
       "                                                text  \\\n",
       "0  Two places I'd invest all my money if I could:...   \n",
       "1  Awesome! Google driverless cars will help the ...   \n",
       "2  If Google maps can't keep up with road constru...   \n",
       "3  Autonomous cars seem way overhyped given the t...   \n",
       "4  Just saw Google self-driving car on I-34. It w...   \n",
       "\n",
       "                                             Cleaned  \\\n",
       "0            places invest money : 3d printing ! ! !   \n",
       "1                      awesome ! help blind travel ;   \n",
       "2          maps road construction , supposed trust ?   \n",
       "3  way overhyped given technology challenges ; pi...   \n",
       "4                    saw - 34 . painted green blue .   \n",
       "\n",
       "                                         Spacy_Lemma  \\\n",
       "0                place invest money : 3d print ! ! !   \n",
       "1                      awesome ! help blind travel ;   \n",
       "2            map road construction , suppose trust ?   \n",
       "3  way overhype give technology challenge ; pilot...   \n",
       "4                      see - 34 . paint green blue .   \n",
       "\n",
       "                                                 POS  \n",
       "0  [(place, NN), (invest, JJS), (money, NN), (:, ...  \n",
       "1  [(awesome, NN), (!, .), (help, NN), (blind, VB...  \n",
       "2  [(map, NN), (road, NN), (construction, NN), (,...  \n",
       "3  [(way, NN), (overhype, JJ), (give, JJ), (techn...  \n",
       "4  [(see, VB), (-, :), (34, CD), (., .), (paint, ...  "
      ]
     },
     "execution_count": 169,
     "metadata": {},
     "output_type": "execute_result"
    }
   ],
   "source": [
    "##Part of Speech tagging\n",
    "\n",
    "POS_tagged =[]\n",
    "\n",
    "for i in range(0,len(data)):  \n",
    "    wordsList = nltk.word_tokenize(data.iloc[i,6])\n",
    "    tagged = nltk.pos_tag(wordsList)\n",
    "    POS_tagged.append(tagged)\n",
    "\n",
    "data.insert(7, 'POS', POS_tagged)\n",
    "data.head()"
   ]
  },
  {
   "cell_type": "markdown",
   "id": "637142c0",
   "metadata": {},
   "source": [
    "#### Printing the tweet, cleaned tweet and lemmatized form of a random tweet"
   ]
  },
  {
   "cell_type": "code",
   "execution_count": 171,
   "id": "4972f469",
   "metadata": {},
   "outputs": [
    {
     "name": "stdout",
     "output_type": "stream",
     "text": [
      "Two places I'd invest all my money if I could: 3D printing and Self-driving cars!!!\n",
      "places invest money : 3d printing ! ! !\n",
      "place invest money : 3d print ! ! !\n",
      "[('place', 'NN'), ('invest', 'JJS'), ('money', 'NN'), (':', ':'), ('3d', 'CD'), ('print', 'NN'), ('!', '.'), ('!', '.'), ('!', '.')]\n"
     ]
    }
   ],
   "source": [
    "print(data['text'][0])\n",
    "print(data['Cleaned'][0])\n",
    "print(data['Spacy_Lemma'][0])\n",
    "print(data['POS'][0])"
   ]
  },
  {
   "cell_type": "markdown",
   "id": "9219c683",
   "metadata": {},
   "source": [
    "### Show the most common words/tokens overall, nouns, adjectives, and punctuation-based tokens for all of the tweets. "
   ]
  },
  {
   "cell_type": "code",
   "execution_count": 172,
   "id": "90eca8b5",
   "metadata": {},
   "outputs": [
    {
     "name": "stdout",
     "output_type": "stream",
     "text": [
      "Most common word from the original tweets - \n",
      "('the', 2812)\n",
      "('car', 2194)\n",
      "('a', 2123)\n",
      "('to', 2062)\n",
      "('cars', 1926)\n"
     ]
    }
   ],
   "source": [
    "##Most Frequent word from the original tweets\n",
    "\n",
    "from collections import Counter\n",
    "data_tweet = data['text'].tolist()    \n",
    "print(\"Most common word from the original tweets - \")\n",
    "\n",
    "data_tweet = ' '.join(data_tweet)    \n",
    "split_it = data_tweet.split()\n",
    "Counter = Counter(split_it)\n",
    "most_occur = Counter.most_common(5)\n",
    "print(*most_occur,sep='\\n')"
   ]
  },
  {
   "cell_type": "code",
   "execution_count": 173,
   "id": "689f057a",
   "metadata": {},
   "outputs": [],
   "source": [
    "import string\n",
    "\n",
    "def cleaning(text):        \n",
    "    # converting to lowercase, removing URL links, special characters, punctuations...\n",
    "    text = text.lower()\n",
    "    text = re.sub('https?://\\S+|www\\.\\S+', '', text)\n",
    "    text = re.sub('<.*?>+', '', text)\n",
    "    text = re.sub('[%s]' % re.escape(string.punctuation), '', text)\n",
    "    text = re.sub('\\n', '', text)\n",
    "    text = re.sub('[’“”…]', '', text)     \n",
    "\n",
    "    # removing the emojies              \n",
    "    emoji_pattern = re.compile(\"[\"\n",
    "                           u\"\\U0001F600-\\U0001F64F\"  # emoticons\n",
    "                           u\"\\U0001F300-\\U0001F5FF\"  # symbols & pictographs\n",
    "                           u\"\\U0001F680-\\U0001F6FF\"  # transport & map symbols\n",
    "                           u\"\\U0001F1E0-\\U0001F1FF\"  # flags (iOS)\n",
    "                           u\"\\U00002702-\\U000027B0\"\n",
    "                           u\"\\U000024C2-\\U0001F251\"\n",
    "                           \"]+\", flags=re.UNICODE)\n",
    "    text = emoji_pattern.sub(r'', text)   \n",
    "    \n",
    "    return text"
   ]
  },
  {
   "cell_type": "code",
   "execution_count": 174,
   "id": "63c1f7d8",
   "metadata": {},
   "outputs": [
    {
     "name": "stdout",
     "output_type": "stream",
     "text": [
      "Most common word from the Cleaned tweets - \n",
      "('future', 303)\n",
      "('s', 301)\n",
      "('saw', 282)\n",
      "('like', 265)\n",
      "('new', 233)\n"
     ]
    }
   ],
   "source": [
    "##Most Frequent word from the cleaned tweets\n",
    "\n",
    "from collections import Counter\n",
    "data_cleaned = data['Cleaned'].tolist()\n",
    "print(\"Most common word from the Cleaned tweets - \")\n",
    "\n",
    "temp_col = data['Cleaned'].apply(cleaning)\n",
    "\n",
    "data_cleaned = ' '.join(temp_col)    \n",
    "split_it = data_cleaned.split()\n",
    "Counter = Counter(split_it)\n",
    "most_occur = Counter.most_common(5)\n",
    "\n",
    "print(*most_occur,sep='\\n')"
   ]
  },
  {
   "cell_type": "code",
   "execution_count": 175,
   "id": "608527ae",
   "metadata": {},
   "outputs": [],
   "source": [
    "##Sorting all the cleaned tokens into their part of speech list using spacy.pos_\n",
    "\n",
    "noun_list = []\n",
    "verb_list = []\n",
    "adj_list = []\n",
    "adv_list = []\n",
    "\n",
    "\n",
    "for i in range(0,len(data)):  \n",
    "    doc = nlp(data.iloc[i,5])\n",
    "    for token in doc:\n",
    "        if token.pos_ =='NOUN':\n",
    "            noun_list.append(token)\n",
    "        elif token.pos_ == 'VERB':\n",
    "            verb_list.append(token)\n",
    "        elif token.pos_ == 'ADJ':\n",
    "            adj_list.append(token)\n",
    "        elif token.pos_ == 'ADV':\n",
    "            adv_list.append(token)"
   ]
  },
  {
   "cell_type": "code",
   "execution_count": 176,
   "id": "586a6897",
   "metadata": {},
   "outputs": [],
   "source": [
    "for i in range(len(noun_list)):\n",
    "    noun_list[i]=noun_list[i].text\n",
    "    noun_list[i] = cleaning(noun_list[i])\n",
    "\n",
    "for i in range(len(verb_list)):\n",
    "    verb_list[i]=verb_list[i].text\n",
    "    verb_list[i] = cleaning(verb_list[i])\n",
    "    \n",
    "for i in range(len(adj_list)):\n",
    "    adj_list[i]=adj_list[i].text\n",
    "    adj_list[i] = cleaning(adj_list[i])\n",
    "\n",
    "for i in range(len(adv_list)):\n",
    "    adv_list[i]=adv_list[i].text\n",
    "    adv_list[i] = cleaning(adv_list[i])"
   ]
  },
  {
   "cell_type": "code",
   "execution_count": 177,
   "id": "137aaf4f",
   "metadata": {},
   "outputs": [
    {
     "name": "stdout",
     "output_type": "stream",
     "text": [
      "Most frequent Noun - \n",
      "('future', 166)\n",
      "('road', 155)\n",
      "('people', 154)\n",
      "('today', 152)\n",
      "('wheel', 144)\n"
     ]
    }
   ],
   "source": [
    "##Most Frequent Noun\n",
    "\n",
    "from collections import Counter\n",
    "print(\"Most frequent Noun - \")\n",
    "noun = '' \n",
    "for i in range(len(noun_list)):\n",
    "    noun += ' '+noun_list[i]\n",
    "split_it = noun.split()\n",
    "Counter = Counter(split_it)\n",
    "most_occur = Counter.most_common(5)\n",
    "print(*most_occur,sep='\\n')"
   ]
  },
  {
   "cell_type": "code",
   "execution_count": 178,
   "id": "719b54e7",
   "metadata": {},
   "outputs": [
    {
     "name": "stdout",
     "output_type": "stream",
     "text": [
      "Most frequent Adjective - \n",
      "('new', 212)\n",
      "('future', 133)\n",
      "('ready', 86)\n",
      "('good', 84)\n",
      "('cool', 82)\n"
     ]
    }
   ],
   "source": [
    "##Most Frequent Adjective\n",
    "\n",
    "from collections import Counter\n",
    "print(\"Most frequent Adjective - \")\n",
    "adj = '' \n",
    "for i in range(len(adj_list)):\n",
    "    adj += ' '+adj_list[i]\n",
    "split_it = adj.split()\n",
    "Counter = Counter(split_it)\n",
    "most_occur = Counter.most_common(5)\n",
    "print(*most_occur,sep='\\n')"
   ]
  },
  {
   "cell_type": "code",
   "execution_count": 179,
   "id": "4f6a6ed8",
   "metadata": {},
   "outputs": [
    {
     "name": "stdout",
     "output_type": "stream",
     "text": [
      "Most frequent Verb  - \n",
      "('saw', 277)\n",
      "('think', 176)\n",
      "('want', 159)\n",
      "('going', 129)\n",
      "('wait', 125)\n"
     ]
    }
   ],
   "source": [
    "## Most Frequent Verb\n",
    "\n",
    "from collections import Counter\n",
    "print(\"Most frequent Verb  - \")\n",
    "verb = '' \n",
    "for i in range(len(verb_list)):\n",
    "    verb += ' '+verb_list[i]\n",
    "split_it = verb.split()\n",
    "Counter = Counter(split_it)\n",
    "most_occur = Counter.most_common(5)\n",
    "print(*most_occur,sep='\\n')"
   ]
  },
  {
   "cell_type": "code",
   "execution_count": 180,
   "id": "c16f96e9",
   "metadata": {},
   "outputs": [
    {
     "name": "stdout",
     "output_type": "stream",
     "text": [
      "Most frequent Adverb  - \n",
      "('soon', 108)\n",
      "('pretty', 47)\n",
      "('maybe', 44)\n",
      "('probably', 33)\n",
      "('actually', 32)\n"
     ]
    }
   ],
   "source": [
    "## Most Frequent Adverb\n",
    "\n",
    "from collections import Counter\n",
    "print(\"Most frequent Adverb  - \")\n",
    "adv = '' \n",
    "for i in range(len(adv_list)):\n",
    "    adv += ' '+adv_list[i]\n",
    "split_it = adv.split()\n",
    "Counter = Counter(split_it)\n",
    "most_occur = Counter.most_common(5)\n",
    "print(*most_occur,sep='\\n')"
   ]
  },
  {
   "cell_type": "code",
   "execution_count": 181,
   "id": "3796c868",
   "metadata": {},
   "outputs": [
    {
     "name": "stdout",
     "output_type": "stream",
     "text": [
      "('future', 158)\n",
      "('see', 125)\n",
      "('today', 103)\n",
      "('driver', 103)\n",
      "('year', 88)\n"
     ]
    }
   ],
   "source": [
    "## Most Frequent Punctuation Calculation\n",
    "\n",
    "import string\n",
    "\n",
    "punct =[]\n",
    "\n",
    "keywords = string.punctuation\n",
    "\n",
    "for i in range(len(data)):\n",
    "    words = data.iloc[i,6].lower().split()\n",
    "    for w in words:\n",
    "        if w in string.punctuation and words[words.index(w)-1] not in string.punctuation:\n",
    "            punct.append(words[words.index(w)-1])\n",
    "            \n",
    "from collections import Counter\n",
    "punct = ' '.join(punct)     \n",
    "split_it = punct.split()\n",
    "Counter = Counter(split_it)\n",
    "most_occur = Counter.most_common(5)\n",
    "print(*most_occur,sep='\\n')"
   ]
  },
  {
   "cell_type": "markdown",
   "id": "8ee15cd2",
   "metadata": {},
   "source": [
    "### After tokenizing and lemmatizing the data - most common words/tokens overall, nouns, adjectives, and punctuation-based tokens for all of the tweets.\n",
    "\n",
    "- Most Common Word (Original Data) - 'the'\n",
    "- Most Common Word (Cleaned Data - after removing stopwords) - 'future'\n",
    "- Nouns - 'future'\n",
    "- Adjectives - 'new'\n",
    "- Verb - 'saw'\n",
    "- Adverb - 'soon'\n",
    "- Punctuation based tokens - 'future'"
   ]
  },
  {
   "cell_type": "markdown",
   "id": "3aa8a2a3",
   "metadata": {},
   "source": [
    "### QUESTION 4\n",
    "\n",
    "#### Create a model to predict what sentiment a Tweet will be given on the 1-5 scale. What are the 10 top words/tokens for each sentiment rating? (5 points) "
   ]
  },
  {
   "cell_type": "markdown",
   "id": "150300ad",
   "metadata": {},
   "source": [
    "### Building a model to classify tweets according to the sentiment scale using TF-IDF method"
   ]
  },
  {
   "cell_type": "code",
   "execution_count": 182,
   "id": "aff2cbe5",
   "metadata": {},
   "outputs": [
    {
     "name": "stdout",
     "output_type": "stream",
     "text": [
      "(6933, 11224)\n"
     ]
    }
   ],
   "source": [
    "from sklearn.feature_extraction.text import TfidfVectorizer\n",
    "corpus = data['text']\n",
    "vectorizer = TfidfVectorizer()\n",
    "X = vectorizer.fit_transform(corpus)\n",
    "vectorizer.get_feature_names()\n",
    "print(X.shape)"
   ]
  },
  {
   "cell_type": "code",
   "execution_count": 183,
   "id": "906add31",
   "metadata": {},
   "outputs": [],
   "source": [
    "temp= temp.astype({'sentiment':'int64'})"
   ]
  },
  {
   "cell_type": "code",
   "execution_count": 184,
   "id": "41ab4052",
   "metadata": {},
   "outputs": [
    {
     "name": "stdout",
     "output_type": "stream",
     "text": [
      "Train:  (4853,) (4853,) \n",
      "Test:   (2080,) (2080,)\n"
     ]
    }
   ],
   "source": [
    "from sklearn.model_selection import train_test_split\n",
    "\n",
    "X_train,X_test,Y_train, Y_test = train_test_split(temp['Spacy_Lemma'], temp['sentiment'], test_size=0.3, random_state=30)\n",
    "\n",
    "print('Train: ',X_train.shape,Y_train.shape,'\\nTest:  ',X_test.shape,Y_test.shape)\n"
   ]
  },
  {
   "cell_type": "code",
   "execution_count": 185,
   "id": "fd3abb0f",
   "metadata": {},
   "outputs": [],
   "source": [
    "tf_x_train = vectorizer.fit_transform(X_train)\n",
    "tf_x_test = vectorizer.transform(X_test)"
   ]
  },
  {
   "cell_type": "markdown",
   "id": "e286ab6f",
   "metadata": {},
   "source": [
    "### Using Logistic Regression to test the model by splitting the dataset into training and testing sets"
   ]
  },
  {
   "cell_type": "code",
   "execution_count": 186,
   "id": "62270862",
   "metadata": {},
   "outputs": [
    {
     "data": {
      "text/plain": [
       "LogisticRegression(max_iter=1000, solver='saga')"
      ]
     },
     "execution_count": 186,
     "metadata": {},
     "output_type": "execute_result"
    }
   ],
   "source": [
    "from sklearn.linear_model import LogisticRegression\n",
    "clf = LogisticRegression(max_iter=1000,solver='saga')\n",
    "clf.fit(tf_x_train,Y_train)"
   ]
  },
  {
   "cell_type": "code",
   "execution_count": 187,
   "id": "eff36f77",
   "metadata": {},
   "outputs": [],
   "source": [
    "y_test_pred=clf.predict(tf_x_test)"
   ]
  },
  {
   "cell_type": "code",
   "execution_count": 209,
   "id": "d6caa55d",
   "metadata": {},
   "outputs": [
    {
     "data": {
      "image/png": "[encoded data removed]",
      "text/plain": [
       "<Figure size 432x288 with 1 Axes>"
      ]
     },
     "metadata": {
      "needs_background": "light"
     },
     "output_type": "display_data"
    }
   ],
   "source": [
    "bins = np.linspace(0, 5, 5)\n",
    "\n",
    "\n",
    "\n",
    "plt.hist(Y_test, bins, alpha=0.2, label='Training')\n",
    "plt.hist(y_test_pred, bins, alpha=0.4, label='Predicted')\n",
    "plt.legend(loc='upper right')\n",
    "plt.show()"
   ]
  },
  {
   "cell_type": "markdown",
   "id": "66a98dd8",
   "metadata": {},
   "source": [
    "### To capture the most common words for each sentiment rating, we need to remove all the punctuation tokens. "
   ]
  },
  {
   "cell_type": "code",
   "execution_count": 188,
   "id": "61fe5f17",
   "metadata": {},
   "outputs": [],
   "source": [
    "def remove_punctuations(text):\n",
    "    for punctuation in string.punctuation:\n",
    "        text = text.replace(punctuation, '')\n",
    "    return text\n",
    "\n",
    "data[\"No_Punct\"] = data['Spacy_Lemma'].apply(remove_punctuations)"
   ]
  },
  {
   "cell_type": "markdown",
   "id": "e6f2bccf",
   "metadata": {},
   "source": [
    "### List of top 10 words for each sentiment rating"
   ]
  },
  {
   "cell_type": "code",
   "execution_count": 191,
   "id": "48e6a7bd",
   "metadata": {},
   "outputs": [
    {
     "name": "stdout",
     "output_type": "stream",
     "text": [
      "\n",
      " 10 Most Common words for sentiment rating - 1\n",
      "('think', 11)\n",
      "('want', 9)\n",
      "('people', 9)\n",
      "('crash', 7)\n",
      "('fuck', 7)\n",
      "('go', 7)\n",
      "('way', 7)\n",
      "('wheel', 7)\n",
      "('idea', 7)\n",
      "('driver', 6)\n",
      "\n",
      " 10 Most Common words for sentiment rating - 2\n",
      "('think', 56)\n",
      "('like', 51)\n",
      "('go', 46)\n",
      "('driver', 45)\n",
      "('people', 42)\n",
      "('want', 38)\n",
      "('need', 36)\n",
      "('road', 32)\n",
      "('t', 32)\n",
      "('s', 30)\n",
      "\n",
      " 10 Most Common words for sentiment rating - 3\n",
      "('see', 240)\n",
      "('s', 228)\n",
      "('future', 204)\n",
      "('road', 203)\n",
      "('like', 194)\n",
      "('new', 184)\n",
      "('think', 184)\n",
      "('driver', 164)\n",
      "('need', 150)\n",
      "('look', 146)\n",
      "\n",
      " 10 Most Common words for sentiment rating - 4\n",
      "('see', 340)\n",
      "('s', 283)\n",
      "('future', 281)\n",
      "('like', 249)\n",
      "('road', 248)\n",
      "('need', 241)\n",
      "('think', 239)\n",
      "('driver', 231)\n",
      "('new', 223)\n",
      "('look', 204)\n",
      "\n",
      " 10 Most Common words for sentiment rating - 5\n",
      "('see', 373)\n",
      "('s', 309)\n",
      "('future', 303)\n",
      "('like', 268)\n",
      "('road', 261)\n",
      "('need', 257)\n",
      "('think', 246)\n",
      "('driver', 241)\n",
      "('new', 240)\n",
      "('want', 220)\n"
     ]
    }
   ],
   "source": [
    "temp_col = []\n",
    "\n",
    "for i in range(len(data['sentiment'].unique())):\n",
    "    for j in range(len(data)):\n",
    "        if data.iloc[j, 2]==i+1:\n",
    "            temp_col.append(data.iloc[j,8])\n",
    "    data_cleaned = ' '.join(temp_col)\n",
    "    split_it = data_cleaned.split()\n",
    "    from collections import Counter\n",
    "    Counter = Counter(split_it)\n",
    "    most_occur = Counter.most_common(10)\n",
    "    print(\"\\n 10 Most Common words for sentiment rating -\", i+1)\n",
    "    print(*most_occur,sep='\\n')\n"
   ]
  },
  {
   "cell_type": "markdown",
   "id": "dab461bd",
   "metadata": {},
   "source": [
    "## Question 5"
   ]
  },
  {
   "cell_type": "markdown",
   "id": "9d5978e0",
   "metadata": {},
   "source": [
    "### 5) Evaluate how well the model performs for each rating (1-5).  "
   ]
  },
  {
   "cell_type": "markdown",
   "id": "f9182a75",
   "metadata": {},
   "source": [
    "### Testing the accuracy of the model"
   ]
  },
  {
   "cell_type": "code",
   "execution_count": 192,
   "id": "39e7a0d0",
   "metadata": {},
   "outputs": [
    {
     "name": "stdout",
     "output_type": "stream",
     "text": [
      "Performance Metric - 1\n",
      "{'precision': 0.0, 'recall': 0.0, 'f1-score': 0.0, 'support': 41}\n",
      "\n",
      "\n",
      "Performance Metric - 2\n",
      "{'precision': 0.4583333333333333, 'recall': 0.05392156862745098, 'f1-score': 0.09649122807017545, 'support': 204}\n",
      "\n",
      "\n",
      "Performance Metric - 3\n",
      "{'precision': 0.6815892557358701, 'recall': 0.9545454545454546, 'f1-score': 0.7952987267384918, 'support': 1276}\n",
      "\n",
      "\n",
      "Performance Metric - 4\n",
      "{'precision': 0.48, 'recall': 0.273972602739726, 'f1-score': 0.34883720930232553, 'support': 438}\n",
      "\n",
      "\n",
      "Performance Metric - 5\n",
      "{'precision': 0.5789473684210527, 'recall': 0.09090909090909091, 'f1-score': 0.15714285714285714, 'support': 121}\n",
      "\n",
      "\n",
      "Performance Metric - accuracy\n",
      "0.6538461538461539\n",
      "\n",
      "\n",
      "Performance Metric - macro avg\n",
      "{'precision': 0.43977399149805124, 'recall': 0.27466974336434447, 'f1-score': 0.2795540042507699, 'support': 2080}\n",
      "\n",
      "\n",
      "Performance Metric - weighted avg\n",
      "{'precision': 0.5978367893739988, 'recall': 0.6538461538461539, 'f1-score': 0.5799472929006422, 'support': 2080}\n",
      "\n",
      "\n"
     ]
    }
   ],
   "source": [
    "import warnings\n",
    "warnings.filterwarnings(\"ignore\")\n",
    "\n",
    "from sklearn.metrics import classification_report\n",
    "report=classification_report(Y_test, y_test_pred,output_dict=True)\n",
    "\n",
    "for key, value in report.items():\n",
    "        print('Performance Metric -', key)\n",
    "        print(value)\n",
    "        print('\\n')"
   ]
  },
  {
   "cell_type": "markdown",
   "id": "404b5bdb",
   "metadata": {},
   "source": [
    "### Where does it make errors and how might you improve it? (5 points) "
   ]
  },
  {
   "cell_type": "markdown",
   "id": "fe6a274a",
   "metadata": {},
   "source": [
    "- We can see that the overall accuracy of the model is 65%\n",
    "- We can also notice that the overall performance of the model for the sentiment rating '3' is better as compared to all the other sentiment ratings. This is because the number of tweets with the rating of '3' were much higher as compared to that of the other ratings. This is a classic case of class imbalance, and that is one of the primary aspects that can be changed to improve the quality of the model. \n",
    "- We are training the model based on 1 feature. That could also be a reason for low accuracy score of our model. If we can include more features to buid our classification model, that would definitely increase accuracy. "
   ]
  }
 ],
 "metadata": {
  "kernelspec": {
   "display_name": "Python 3 (ipykernel)",
   "language": "python",
   "name": "python3"
  },
  "language_info": {
   "codemirror_mode": {
    "name": "ipython",
    "version": 3
   },
   "file_extension": ".py",
   "mimetype": "text/x-python",
   "name": "python",
   "nbconvert_exporter": "python",
   "pygments_lexer": "ipython3",
   "version": "3.9.7"
  }
 },
 "nbformat": 4,
 "nbformat_minor": 5
}
